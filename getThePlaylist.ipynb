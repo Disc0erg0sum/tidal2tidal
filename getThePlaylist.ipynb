{
 "cells": [
  {
   "cell_type": "markdown",
   "metadata": {},
   "source": [
    "# Get the impotent Dater from tidle\n",
    "\n",
    "Here is same simple example to get the impotent Dater from tidle."
   ]
  },
  {
   "cell_type": "markdown",
   "metadata": {},
   "source": [
    "Login to tidle"
   ]
  },
  {
   "cell_type": "code",
   "execution_count": null,
   "metadata": {},
   "outputs": [],
   "source": [
    "import tidalapi\n",
    "import os\n",
    "import json\n",
    "\n",
    "data_login = {\n",
    "    'account 1':{}\n",
    "}\n",
    "\n",
    "file_path = '.logins'\n",
    "\n",
    "# make a .env file if it doesn't exist\n",
    "if not os.path.exists(file_path):\n",
    "\n",
    "    session1 = tidalapi.Session()\n",
    "    # Will run until you visit the printed url and link your account\n",
    "    session1.login_oauth_simple()\n",
    "\n",
    "    data_login['account 1'].update({\n",
    "        'token_type':session1.token_type,\n",
    "        'access_token':session1.access_token,\n",
    "        })\n",
    "\n",
    "    with open(file_path, 'w') as f:\n",
    "        json.dump(data_login, f)\n",
    "\n",
    "else:\n",
    "    session1 = tidalapi.Session()\n",
    "    with open(file_path, 'r') as f:\n",
    "        data_login = json.load(f)\n",
    "        \n",
    "    token_type = data_login['account 1']['token_type']\n",
    "    access_token = data_login['account 1']['access_token']\n",
    "\n",
    "    if session1.load_oauth_session(token_type,access_token):\n",
    "        print('Successfully loaded oauth session')\n",
    "    else:\n",
    "        print('Failed to load oauth session')\n",
    "        print('deleting .env file and trying again')\n",
    "        exit()\n",
    "    "
   ]
  },
  {
   "cell_type": "markdown",
   "metadata": {},
   "source": [
    "Get al Playlists from tidle and Save them to a jason files in the folder \"playlists\""
   ]
  },
  {
   "cell_type": "code",
   "execution_count": null,
   "metadata": {},
   "outputs": [],
   "source": [
    "tl_playlists = session1.user.playlists()\n",
    "\n",
    "# Definieren Sie den Pfad zum Ordner\n",
    "folder_path = './playlists'\n",
    "\n",
    "# Überprüfen Sie, ob der Ordner existiert, und erstellen Sie ihn, wenn er nicht existiert\n",
    "if not os.path.exists(folder_path):\n",
    "    os.makedirs(folder_path)\n",
    "\n",
    "for tl_playlist in tl_playlists:\n",
    "    data = {\n",
    "        'name': tl_playlist.name,\n",
    "        'description': tl_playlist.description,\n",
    "        'public': tl_playlist.public,\n",
    "        'id': tl_playlist.id,\n",
    "        'tracks':[]\n",
    "    }\n",
    "\n",
    "    tracks = tl_playlist.tracks()\n",
    "    for track in tracks:\n",
    "        data['tracks'].append({\n",
    "            'title': track.name,\n",
    "            'artist': track.artist.name,\n",
    "            'album': track.album.name,\n",
    "            'duration': track.duration,\n",
    "            'isrc': track.isrc,\n",
    "            'id': track.id\n",
    "        })\n",
    "\n",
    "    with open(f'{folder_path}/pl_{tl_playlist.name}.json', 'w') as f:\n",
    "        json.dump(data, f)\n",
    "\n",
    "    print(f'Playlist {tl_playlist.name} saved')"
   ]
  },
  {
   "cell_type": "markdown",
   "metadata": {},
   "source": [
    "Get all favorit artists, tracks and albums from tidle and save them to a jason file favorites.json"
   ]
  },
  {
   "cell_type": "code",
   "execution_count": null,
   "metadata": {},
   "outputs": [],
   "source": [
    "tl_f_artists=session1.user.favorites.artists()\n",
    "tl_f_tracks=session1.user.favorites.tracks()\n",
    "tl_f_albums=session1.user.favorites.albums()\n",
    "\n",
    "data = {\n",
    "    'f_artists':[],\n",
    "    'f_tracks':[],\n",
    "    'f_albums':[],\n",
    "    }\n",
    "\n",
    "for tl_f_artist in tl_f_artists:\n",
    "    data['f_artists'].append({\n",
    "        'name': tl_f_artist.name,\n",
    "        'id': tl_f_artist.id\n",
    "    })\n",
    "\n",
    "for f_track in tl_f_tracks:\n",
    "    data['f_tracks'].append({\n",
    "        'title': f_track.name,\n",
    "        'artist': f_track.artist.name,\n",
    "        'album': f_track.album.name,\n",
    "        'duration': f_track.duration,\n",
    "        'isrc': f_track.isrc,\n",
    "        'id': f_track.id\n",
    "    })\n",
    "\n",
    "for f_album in tl_f_albums:\n",
    "    data['f_albums'].append({\n",
    "        'title': f_album.name,\n",
    "        'artist': f_album.artist.name,\n",
    "        'duration': f_album.duration,\n",
    "        'id': f_album.id\n",
    "    })\n",
    "\n",
    "with open(f'favorites.json', 'w') as f:\n",
    "    json.dump(data, f)\n",
    "\n",
    "print(f'Favorites saved')"
   ]
  }
 ],
 "metadata": {
  "kernelspec": {
   "display_name": ".venv",
   "language": "python",
   "name": "python3"
  },
  "language_info": {
   "codemirror_mode": {
    "name": "ipython",
    "version": 3
   },
   "file_extension": ".py",
   "mimetype": "text/x-python",
   "name": "python",
   "nbconvert_exporter": "python",
   "pygments_lexer": "ipython3",
   "version": "3.11.6"
  }
 },
 "nbformat": 4,
 "nbformat_minor": 2
}
