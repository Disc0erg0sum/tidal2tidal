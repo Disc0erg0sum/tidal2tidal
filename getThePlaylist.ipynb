{
 "cells": [
  {
   "cell_type": "markdown",
   "metadata": {},
   "source": [
    "# Get the impotent Dater from tidle\n",
    "\n",
    "Here is same simple example to get the impotent Dater from tidle."
   ]
  },
  {
   "cell_type": "markdown",
   "metadata": {},
   "source": [
    "Login to tidle"
   ]
  },
  {
   "cell_type": "code",
   "execution_count": null,
   "metadata": {},
   "outputs": [],
   "source": [
    "import tidalapi\n",
    "from dotenv import load_dotenv, set_key\n",
    "import os\n",
    "\n",
    "env_path = '.env'\n",
    "\n",
    "# make a .env file if it doesn't exist\n",
    "if not os.path.exists(env_path):\n",
    "\n",
    "    session = tidalapi.Session()\n",
    "    # Will run until you visit the printed url and link your account\n",
    "    session.login_oauth_simple()\n",
    "\n",
    "    with open(env_path, 'w'):\n",
    "        pass\n",
    "\n",
    "    set_key(env_path, 'TOKEN_TYPE', session.token_type)\n",
    "    set_key(env_path, 'ACCESS_TOKEN', session.access_token)\n",
    "    set_key(env_path, 'REFRESH_TOKEN', session.refresh_token)\n",
    "    set_key(env_path, 'EXPIRY_TIME', str(session.expiry_time))\n",
    "else:\n",
    "    load_dotenv()\n",
    "    session = tidalapi.Session()\n",
    "    token_type = os.getenv('TOKEN_TYPE')\n",
    "    access_token = os.getenv('ACCESS_TOKEN')\n",
    "    refresh_token = os.getenv('REFRESH_TOKEN')\n",
    "\n",
    "    if session.load_oauth_session(token_type,access_token):\n",
    "        print('Successfully loaded oauth session')\n",
    "    else:\n",
    "        print('Failed to load oauth session')\n",
    "        print('deleting .env file and trying again')\n",
    "        exit()\n",
    "    "
   ]
  },
  {
   "cell_type": "markdown",
   "metadata": {},
   "source": [
    "How we get access to all playlists of a user?"
   ]
  },
  {
   "cell_type": "code",
   "execution_count": null,
   "metadata": {},
   "outputs": [],
   "source": [
    "playlites=session.user.playlists()\n",
    "\n",
    "#print all playlist names\n",
    "for playlist in playlites:\n",
    "    print (f\"name: {playlist.name} | id: {playlist.id}\")"
   ]
  },
  {
   "cell_type": "markdown",
   "metadata": {},
   "source": [
    "How we get access to the tracks of a playlist?"
   ]
  },
  {
   "cell_type": "code",
   "execution_count": null,
   "metadata": {},
   "outputs": [],
   "source": [
    "tracks=playlites[0].tracks()\n",
    "\n",
    "for track in tracks:\n",
    "    print (f\"name: {track.name} | artist: {track.artists[0].name} | album: {track.album.name} | id: {track.id}\")"
   ]
  },
  {
   "cell_type": "markdown",
   "metadata": {},
   "source": [
    "How we get access to the fravorites of a user?"
   ]
  },
  {
   "cell_type": "code",
   "execution_count": null,
   "metadata": {},
   "outputs": [],
   "source": [
    "f_artists=session.user.favorites.artists()\n",
    "f_tracks=session.user.favorites.tracks()\n",
    "f_albums=session.user.favorites.albums()\n",
    "\n",
    "print (f_artists[0].name)"
   ]
  }
 ],
 "metadata": {
  "kernelspec": {
   "display_name": ".venv",
   "language": "python",
   "name": "python3"
  },
  "language_info": {
   "codemirror_mode": {
    "name": "ipython",
    "version": 3
   },
   "file_extension": ".py",
   "mimetype": "text/x-python",
   "name": "python",
   "nbconvert_exporter": "python",
   "pygments_lexer": "ipython3",
   "version": "3.11.6"
  }
 },
 "nbformat": 4,
 "nbformat_minor": 2
}
